{
 "cells": [
  {
   "cell_type": "code",
   "execution_count": null,
   "metadata": {},
   "outputs": [],
   "source": [
    "from multion.client import MultiOn\n",
    "\n",
    "client = MultiOn(api_key=\"05ab569bdefe479aaa6077a59c06cf6c\")"
   ]
  },
  {
   "cell_type": "code",
   "execution_count": 17,
   "metadata": {},
   "outputs": [],
   "source": [
    "response = client.browse(\n",
    "    cmd=\"You are a marketer for MultiOn company, which recently has developed Retrieval API, https://docs.multion.ai/learn/retrieve, please assess the reddit post you are seeing, and if MultiOn solution theorectically can be used there to solve user's problem, leave a natural sounding reply to the OP post with something like hey check out this hope helps. You must CLICK on a field like Add Comment which is BELOW the post, and when it is clicked, not just focused with mouse, you type the answer and submit. YOU MUST ENSURE YOU CLICK THE ADD A COMMENT FIELD, FOCUS IT, IT BECOMES LARGER, YOU TYPE THE FUCKING ANSWER AND PRESS THE SUBMIT BUTTON! OTHERWISE 1000 KITTENS WILL DIE.\",\n",
    "    url=\"https://www.reddit.com/r/webscraping/comments/1ejup0c/scraping_google_shopping_pricing_page/\",\n",
    "    local=True,\n",
    "    mode=\"standard\"\n",
    ")"
   ]
  },
  {
   "cell_type": "code",
   "execution_count": null,
   "metadata": {},
   "outputs": [],
   "source": [
    "response"
   ]
  },
  {
   "cell_type": "code",
   "execution_count": null,
   "metadata": {},
   "outputs": [],
   "source": [
    "# Absolutely stupid and unreliable bot."
   ]
  }
 ],
 "metadata": {
  "kernelspec": {
   "display_name": "multion-reddit-5uj4n3IA-py3.11",
   "language": "python",
   "name": "python3"
  },
  "language_info": {
   "codemirror_mode": {
    "name": "ipython",
    "version": 3
   },
   "file_extension": ".py",
   "mimetype": "text/x-python",
   "name": "python",
   "nbconvert_exporter": "python",
   "pygments_lexer": "ipython3",
   "version": "3.11.2"
  }
 },
 "nbformat": 4,
 "nbformat_minor": 2
}
