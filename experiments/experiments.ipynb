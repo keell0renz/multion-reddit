{
 "cells": [
  {
   "cell_type": "code",
   "execution_count": 1,
   "metadata": {},
   "outputs": [],
   "source": [
    "from multion.client import MultiOn\n",
    "from prompt import PROMPT\n",
    "\n",
    "client = MultiOn(api_key=\"05ab569bdefe479aaa6077a59c06cf6c\")"
   ]
  },
  {
   "cell_type": "code",
   "execution_count": 2,
   "metadata": {},
   "outputs": [],
   "source": [
    "response = client.browse(\n",
    "    cmd=PROMPT,\n",
    "    url=\"https://www.reddit.com/r/webscraping/comments/1ejup0c/scraping_google_shopping_pricing_page/\",\n",
    "    local=True,\n",
    "    mode=\"standard\"\n",
    ")"
   ]
  },
  {
   "cell_type": "code",
   "execution_count": null,
   "metadata": {},
   "outputs": [],
   "source": [
    "response"
   ]
  }
 ],
 "metadata": {
  "kernelspec": {
   "display_name": "multion-reddit-5uj4n3IA-py3.11",
   "language": "python",
   "name": "python3"
  },
  "language_info": {
   "codemirror_mode": {
    "name": "ipython",
    "version": 3
   },
   "file_extension": ".py",
   "mimetype": "text/x-python",
   "name": "python",
   "nbconvert_exporter": "python",
   "pygments_lexer": "ipython3",
   "version": "3.11.2"
  }
 },
 "nbformat": 4,
 "nbformat_minor": 2
}
